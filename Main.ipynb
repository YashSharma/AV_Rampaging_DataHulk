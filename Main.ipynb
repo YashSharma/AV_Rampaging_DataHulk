{
 "cells": [
  {
   "cell_type": "code",
   "execution_count": 1,
   "metadata": {
    "collapsed": false
   },
   "outputs": [
    {
     "name": "stderr",
     "output_type": "stream",
     "text": [
      "/Users/Apple/anaconda/lib/python2.7/site-packages/matplotlib/__init__.py:872: UserWarning: axes.color_cycle is deprecated and replaced with axes.prop_cycle; please use the latter.\n",
      "  warnings.warn(self.msg_depr % (key, alt_key))\n"
     ]
    }
   ],
   "source": [
    "# special IPython command to prepare the notebook for matplotlib\n",
    "%matplotlib inline \n",
    "\n",
    "import requests \n",
    "from StringIO import StringIO\n",
    "import numpy as np\n",
    "import pandas as pd # pandas\n",
    "import matplotlib.pyplot as plt # module for plotting \n",
    "import datetime as dt # module for manipulating dates and times\n",
    "import numpy.linalg as lin # module for performing linear algebra operations\n",
    "import collections\n",
    "\n",
    "# special matplotlib argument for improved plots\n",
    "from matplotlib import rcParams\n",
    "import seaborn as sns\n",
    "\n",
    "#colorbrewer2 Dark2 qualitative color table\n",
    "dark2_colors = [(0.10588235294117647, 0.6196078431372549, 0.4666666666666667),\n",
    "                (0.8509803921568627, 0.37254901960784315, 0.00784313725490196),\n",
    "                (0.4588235294117647, 0.4392156862745098, 0.7019607843137254),\n",
    "                (0.9058823529411765, 0.1607843137254902, 0.5411764705882353),\n",
    "                (0.4, 0.6509803921568628, 0.11764705882352941),\n",
    "                (0.9019607843137255, 0.6705882352941176, 0.00784313725490196),\n",
    "                (0.6509803921568628, 0.4627450980392157, 0.11372549019607843)]\n",
    "\n",
    "rcParams['figure.figsize'] = (20, 6)\n",
    "rcParams['figure.dpi'] = 150\n",
    "rcParams['axes.color_cycle'] = dark2_colors\n",
    "rcParams['lines.linewidth'] = 2\n",
    "rcParams['axes.facecolor'] = 'white'\n",
    "rcParams['font.size'] = 14\n",
    "rcParams['patch.edgecolor'] = 'white'\n",
    "rcParams['patch.facecolor'] = dark2_colors[0]\n",
    "rcParams['font.family'] = 'StixGeneral'"
   ]
  },
  {
   "cell_type": "code",
   "execution_count": 2,
   "metadata": {
    "collapsed": true
   },
   "outputs": [],
   "source": [
    "train = pd.read_csv('train.csv')\n",
    "test = pd.read_csv('test.csv')"
   ]
  },
  {
   "cell_type": "code",
   "execution_count": 4,
   "metadata": {
    "collapsed": false
   },
   "outputs": [
    {
     "data": {
      "text/html": [
       "<div>\n",
       "<table border=\"1\" class=\"dataframe\">\n",
       "  <thead>\n",
       "    <tr style=\"text-align: right;\">\n",
       "      <th></th>\n",
       "      <th>ID</th>\n",
       "      <th>timestamp</th>\n",
       "      <th>Stock_ID</th>\n",
       "      <th>Volume</th>\n",
       "      <th>Three_Day_Moving_Average</th>\n",
       "      <th>Five_Day_Moving_Average</th>\n",
       "      <th>Ten_Day_Moving_Average</th>\n",
       "      <th>Twenty_Day_Moving_Average</th>\n",
       "      <th>True_Range</th>\n",
       "      <th>Average_True_Range</th>\n",
       "      <th>Positive_Directional_Movement</th>\n",
       "      <th>Negative_Directional_Movement</th>\n",
       "      <th>Outcome</th>\n",
       "    </tr>\n",
       "  </thead>\n",
       "  <tbody>\n",
       "    <tr>\n",
       "      <th>0</th>\n",
       "      <td>1_1</td>\n",
       "      <td>1</td>\n",
       "      <td>1</td>\n",
       "      <td>-0.33308</td>\n",
       "      <td>-0.99681</td>\n",
       "      <td>-0.98736</td>\n",
       "      <td>-0.94728</td>\n",
       "      <td>-0.91977</td>\n",
       "      <td>-0.21129</td>\n",
       "      <td>-0.38778</td>\n",
       "      <td>-0.39903</td>\n",
       "      <td>-0.14321</td>\n",
       "      <td>1</td>\n",
       "    </tr>\n",
       "    <tr>\n",
       "      <th>1</th>\n",
       "      <td>3_1</td>\n",
       "      <td>1</td>\n",
       "      <td>3</td>\n",
       "      <td>-0.67096</td>\n",
       "      <td>-2.08895</td>\n",
       "      <td>-2.08251</td>\n",
       "      <td>-2.02183</td>\n",
       "      <td>-1.93779</td>\n",
       "      <td>-0.46476</td>\n",
       "      <td>0.97308</td>\n",
       "      <td>-0.31078</td>\n",
       "      <td>0.80286</td>\n",
       "      <td>0</td>\n",
       "    </tr>\n",
       "    <tr>\n",
       "      <th>2</th>\n",
       "      <td>4_1</td>\n",
       "      <td>1</td>\n",
       "      <td>4</td>\n",
       "      <td>-0.22040</td>\n",
       "      <td>1.07839</td>\n",
       "      <td>1.09143</td>\n",
       "      <td>1.18737</td>\n",
       "      <td>NaN</td>\n",
       "      <td>-0.51638</td>\n",
       "      <td>-0.52368</td>\n",
       "      <td>-0.24140</td>\n",
       "      <td>-0.31910</td>\n",
       "      <td>0</td>\n",
       "    </tr>\n",
       "    <tr>\n",
       "      <th>3</th>\n",
       "      <td>6_1</td>\n",
       "      <td>1</td>\n",
       "      <td>6</td>\n",
       "      <td>-0.23118</td>\n",
       "      <td>-0.55106</td>\n",
       "      <td>-0.53976</td>\n",
       "      <td>-0.47569</td>\n",
       "      <td>-0.42449</td>\n",
       "      <td>-0.60816</td>\n",
       "      <td>-0.69311</td>\n",
       "      <td>-0.40673</td>\n",
       "      <td>-0.45965</td>\n",
       "      <td>0</td>\n",
       "    </tr>\n",
       "    <tr>\n",
       "      <th>4</th>\n",
       "      <td>10_1</td>\n",
       "      <td>1</td>\n",
       "      <td>10</td>\n",
       "      <td>0.15076</td>\n",
       "      <td>-1.40937</td>\n",
       "      <td>-1.39805</td>\n",
       "      <td>-1.36756</td>\n",
       "      <td>-1.31365</td>\n",
       "      <td>-0.33206</td>\n",
       "      <td>-0.43690</td>\n",
       "      <td>-0.33347</td>\n",
       "      <td>0.29217</td>\n",
       "      <td>0</td>\n",
       "    </tr>\n",
       "  </tbody>\n",
       "</table>\n",
       "</div>"
      ],
      "text/plain": [
       "     ID  timestamp  Stock_ID   Volume  Three_Day_Moving_Average  \\\n",
       "0   1_1          1         1 -0.33308                  -0.99681   \n",
       "1   3_1          1         3 -0.67096                  -2.08895   \n",
       "2   4_1          1         4 -0.22040                   1.07839   \n",
       "3   6_1          1         6 -0.23118                  -0.55106   \n",
       "4  10_1          1        10  0.15076                  -1.40937   \n",
       "\n",
       "   Five_Day_Moving_Average  Ten_Day_Moving_Average  Twenty_Day_Moving_Average  \\\n",
       "0                 -0.98736                -0.94728                   -0.91977   \n",
       "1                 -2.08251                -2.02183                   -1.93779   \n",
       "2                  1.09143                 1.18737                        NaN   \n",
       "3                 -0.53976                -0.47569                   -0.42449   \n",
       "4                 -1.39805                -1.36756                   -1.31365   \n",
       "\n",
       "   True_Range  Average_True_Range  Positive_Directional_Movement  \\\n",
       "0    -0.21129            -0.38778                       -0.39903   \n",
       "1    -0.46476             0.97308                       -0.31078   \n",
       "2    -0.51638            -0.52368                       -0.24140   \n",
       "3    -0.60816            -0.69311                       -0.40673   \n",
       "4    -0.33206            -0.43690                       -0.33347   \n",
       "\n",
       "   Negative_Directional_Movement  Outcome  \n",
       "0                       -0.14321        1  \n",
       "1                        0.80286        0  \n",
       "2                       -0.31910        0  \n",
       "3                       -0.45965        0  \n",
       "4                        0.29217        0  "
      ]
     },
     "execution_count": 4,
     "metadata": {},
     "output_type": "execute_result"
    }
   ],
   "source": [
    "train.head()"
   ]
  },
  {
   "cell_type": "code",
   "execution_count": 6,
   "metadata": {
    "collapsed": false
   },
   "outputs": [
    {
     "data": {
      "text/plain": [
       "1955"
      ]
     },
     "execution_count": 6,
     "metadata": {},
     "output_type": "execute_result"
    }
   ],
   "source": [
    "len(train['Stock_ID'].unique())"
   ]
  },
  {
   "cell_type": "code",
   "execution_count": 8,
   "metadata": {
    "collapsed": false
   },
   "outputs": [
    {
     "data": {
      "text/plain": [
       "(702739, 13)"
      ]
     },
     "execution_count": 8,
     "metadata": {},
     "output_type": "execute_result"
    }
   ],
   "source": [
    "train.shape"
   ]
  },
  {
   "cell_type": "code",
   "execution_count": 10,
   "metadata": {
    "collapsed": false
   },
   "outputs": [
    {
     "data": {
      "text/plain": [
       "0    384456\n",
       "1    318283\n",
       "Name: Outcome, dtype: int64"
      ]
     },
     "execution_count": 10,
     "metadata": {},
     "output_type": "execute_result"
    }
   ],
   "source": [
    "train['Outcome'].value_counts()"
   ]
  },
  {
   "cell_type": "code",
   "execution_count": 12,
   "metadata": {
    "collapsed": false
   },
   "outputs": [
    {
     "data": {
      "text/plain": [
       "394"
      ]
     },
     "execution_count": 12,
     "metadata": {},
     "output_type": "execute_result"
    }
   ],
   "source": [
    "len(train['timestamp'].unique())"
   ]
  },
  {
   "cell_type": "code",
   "execution_count": 24,
   "metadata": {
    "collapsed": false
   },
   "outputs": [
    {
     "data": {
      "text/plain": [
       "ID                                  0\n",
       "timestamp                           0\n",
       "Stock_ID                            0\n",
       "Volume                              0\n",
       "Three_Day_Moving_Average          448\n",
       "Five_Day_Moving_Average           902\n",
       "Ten_Day_Moving_Average           2047\n",
       "Twenty_Day_Moving_Average        4404\n",
       "True_Range                          0\n",
       "Average_True_Range               2985\n",
       "Positive_Directional_Movement     224\n",
       "Negative_Directional_Movement     224\n",
       "Outcome                             0\n",
       "dtype: int64"
      ]
     },
     "execution_count": 24,
     "metadata": {},
     "output_type": "execute_result"
    }
   ],
   "source": [
    "train.isnull().sum()"
   ]
  },
  {
   "cell_type": "code",
   "execution_count": 271,
   "metadata": {
    "collapsed": true
   },
   "outputs": [],
   "source": [
    "df_train = train.copy()\n",
    "df_test = test.copy()"
   ]
  },
  {
   "cell_type": "code",
   "execution_count": 272,
   "metadata": {
    "collapsed": false
   },
   "outputs": [],
   "source": [
    "ccc = [u'Volume',\n",
    "       u'Three_Day_Moving_Average', u'Five_Day_Moving_Average',\n",
    "       u'Ten_Day_Moving_Average', u'Twenty_Day_Moving_Average', u'True_Range',\n",
    "       u'Average_True_Range', u'Positive_Directional_Movement',\n",
    "       u'Negative_Directional_Movement']"
   ]
  },
  {
   "cell_type": "code",
   "execution_count": 274,
   "metadata": {
    "collapsed": false
   },
   "outputs": [],
   "source": [
    "df_train.fillna(0, inplace = True)\n",
    "df_test.fillna(0, inplace = True)"
   ]
  },
  {
   "cell_type": "code",
   "execution_count": 275,
   "metadata": {
    "collapsed": true
   },
   "outputs": [],
   "source": [
    "df_train['feat1'] = df_train['Twenty_Day_Moving_Average']-df_train['Three_Day_Moving_Average']\n",
    "df_test['feat1'] = df_test['Twenty_Day_Moving_Average']-df_test['Three_Day_Moving_Average']\n",
    "\n",
    "df_train['feat2'] = df_train['Ten_Day_Moving_Average']-df_train['Three_Day_Moving_Average']\n",
    "df_test['feat2'] = df_test['Ten_Day_Moving_Average']-df_test['Three_Day_Moving_Average']"
   ]
  },
  {
   "cell_type": "code",
   "execution_count": 276,
   "metadata": {
    "collapsed": true
   },
   "outputs": [],
   "source": [
    "to_add = df_train.groupby('Stock_ID')['Positive_Directional_Movement'].min()\n",
    "to_add = to_add.reset_index()\n",
    "to_add.columns = ['Stock_ID','pos_min']\n",
    "df_train = pd.merge(df_train, to_add, how = 'left')\n",
    "df_test = pd.merge(df_test, to_add, how = 'left')\n",
    "\n",
    "to_add = df_train.groupby('Stock_ID')['Negative_Directional_Movement'].min()\n",
    "to_add = to_add.reset_index()\n",
    "to_add.columns = ['Stock_ID','neg_min']\n",
    "df_train = pd.merge(df_train, to_add, how = 'left')\n",
    "df_test = pd.merge(df_test, to_add, how = 'left')"
   ]
  },
  {
   "cell_type": "code",
   "execution_count": 277,
   "metadata": {
    "collapsed": false
   },
   "outputs": [
    {
     "name": "stderr",
     "output_type": "stream",
     "text": [
      "/Users/Apple/anaconda/lib/python2.7/site-packages/ipykernel/__main__.py:2: SettingWithCopyWarning: \n",
      "A value is trying to be set on a copy of a slice from a DataFrame\n",
      "\n",
      "See the caveats in the documentation: http://pandas.pydata.org/pandas-docs/stable/indexing.html#indexing-view-versus-copy\n",
      "  from ipykernel import kernelapp as app\n",
      "/Users/Apple/anaconda/lib/python2.7/site-packages/ipykernel/__main__.py:5: SettingWithCopyWarning: \n",
      "A value is trying to be set on a copy of a slice from a DataFrame\n",
      "\n",
      "See the caveats in the documentation: http://pandas.pydata.org/pandas-docs/stable/indexing.html#indexing-view-versus-copy\n"
     ]
    }
   ],
   "source": [
    "df_train['feat3'] = 0\n",
    "df_train['feat3'][df_train['Positive_Directional_Movement']==df_train['pos_min']] = 1\n",
    "\n",
    "df_test['feat3'] = 0\n",
    "df_test['feat3'][df_test['Positive_Directional_Movement']==df_test['pos_min']] = 1"
   ]
  },
  {
   "cell_type": "code",
   "execution_count": 278,
   "metadata": {
    "collapsed": false
   },
   "outputs": [
    {
     "name": "stderr",
     "output_type": "stream",
     "text": [
      "/Users/Apple/anaconda/lib/python2.7/site-packages/ipykernel/__main__.py:4: SettingWithCopyWarning: \n",
      "A value is trying to be set on a copy of a slice from a DataFrame\n",
      "\n",
      "See the caveats in the documentation: http://pandas.pydata.org/pandas-docs/stable/indexing.html#indexing-view-versus-copy\n",
      "/Users/Apple/anaconda/lib/python2.7/site-packages/ipykernel/__main__.py:5: SettingWithCopyWarning: \n",
      "A value is trying to be set on a copy of a slice from a DataFrame\n",
      "\n",
      "See the caveats in the documentation: http://pandas.pydata.org/pandas-docs/stable/indexing.html#indexing-view-versus-copy\n",
      "/Users/Apple/anaconda/lib/python2.7/site-packages/ipykernel/__main__.py:7: SettingWithCopyWarning: \n",
      "A value is trying to be set on a copy of a slice from a DataFrame\n",
      "\n",
      "See the caveats in the documentation: http://pandas.pydata.org/pandas-docs/stable/indexing.html#indexing-view-versus-copy\n",
      "/Users/Apple/anaconda/lib/python2.7/site-packages/ipykernel/__main__.py:8: SettingWithCopyWarning: \n",
      "A value is trying to be set on a copy of a slice from a DataFrame\n",
      "\n",
      "See the caveats in the documentation: http://pandas.pydata.org/pandas-docs/stable/indexing.html#indexing-view-versus-copy\n"
     ]
    }
   ],
   "source": [
    "df_train['feat4'] = 0\n",
    "df_test['feat4'] = 0\n",
    "\n",
    "df_train['feat4'][df_train['feat3']==0] = df_train['Positive_Directional_Movement']/df_train['True_Range']\n",
    "df_test['feat4'][df_test['feat3']==0] = df_test['Positive_Directional_Movement']/df_test['True_Range']\n",
    "\n",
    "df_train['feat4'][df_train['feat3']==1] = df_train['Negative_Directional_Movement']/df_train['True_Range']\n",
    "df_test['feat4'][df_test['feat3']==1] = df_test['Negative_Directional_Movement']/df_test['True_Range']\n",
    "\n",
    "df_train['feat4'] = abs(df_train['feat4'])\n",
    "df_test['feat4'] = abs(df_test['feat4'])"
   ]
  },
  {
   "cell_type": "code",
   "execution_count": 279,
   "metadata": {
    "collapsed": false
   },
   "outputs": [
    {
     "data": {
      "text/plain": [
       "Index([u'ID', u'timestamp', u'Stock_ID', u'Volume',\n",
       "       u'Three_Day_Moving_Average', u'Five_Day_Moving_Average',\n",
       "       u'Ten_Day_Moving_Average', u'Twenty_Day_Moving_Average', u'True_Range',\n",
       "       u'Average_True_Range', u'Positive_Directional_Movement',\n",
       "       u'Negative_Directional_Movement', u'Outcome', u'feat1', u'feat2',\n",
       "       u'pos_min', u'neg_min', u'feat3', u'feat4'],\n",
       "      dtype='object')"
      ]
     },
     "execution_count": 279,
     "metadata": {},
     "output_type": "execute_result"
    }
   ],
   "source": [
    "df_train.columns"
   ]
  },
  {
   "cell_type": "code",
   "execution_count": 281,
   "metadata": {
    "collapsed": false
   },
   "outputs": [],
   "source": [
    "col = [   u'Stock_ID', u'Volume',u'Three_Day_Moving_Average',\n",
    "        u'Five_Day_Moving_Average', u'True_Range',\n",
    "       u'Average_True_Range', u'Positive_Directional_Movement',\n",
    "       u'Negative_Directional_Movement', u'feat1','feat2' ,u'feat3','feat4']"
   ]
  },
  {
   "cell_type": "code",
   "execution_count": null,
   "metadata": {
    "collapsed": true
   },
   "outputs": [],
   "source": []
  },
  {
   "cell_type": "code",
   "execution_count": 282,
   "metadata": {
    "collapsed": true
   },
   "outputs": [],
   "source": [
    "X_train = df_train[col][df_train['timestamp']<530]\n",
    "y_train = df_train['Outcome'][df_train['timestamp']<530]\n",
    "\n",
    "X_test = df_train[col][df_train['timestamp']>=530]\n",
    "y_test = df_train['Outcome'][df_train['timestamp']>=530]"
   ]
  },
  {
   "cell_type": "code",
   "execution_count": 283,
   "metadata": {
    "collapsed": false
   },
   "outputs": [
    {
     "name": "stdout",
     "output_type": "stream",
     "text": [
      "(702739, 4)\n",
      "(702739,)\n"
     ]
    }
   ],
   "source": [
    "print X.shape\n",
    "print y.shape"
   ]
  },
  {
   "cell_type": "code",
   "execution_count": 284,
   "metadata": {
    "collapsed": false
   },
   "outputs": [
    {
     "name": "stdout",
     "output_type": "stream",
     "text": [
      "Train a XGBoost model\n"
     ]
    },
    {
     "name": "stderr",
     "output_type": "stream",
     "text": [
      "Will train until eval error hasn't decreased in 50 rounds.\n",
      "[0]\ttrain-logloss:0.689878\teval-logloss:0.692554\n",
      "[1]\ttrain-logloss:0.689714\teval-logloss:0.691955\n",
      "[2]\ttrain-logloss:0.689367\teval-logloss:0.691407\n",
      "[3]\ttrain-logloss:0.688691\teval-logloss:0.690866\n",
      "[4]\ttrain-logloss:0.688028\teval-logloss:0.690369\n",
      "[5]\ttrain-logloss:0.687182\teval-logloss:0.689890\n",
      "[6]\ttrain-logloss:0.686410\teval-logloss:0.689503\n",
      "[7]\ttrain-logloss:0.685681\teval-logloss:0.689041\n",
      "[8]\ttrain-logloss:0.684849\teval-logloss:0.688638\n",
      "[9]\ttrain-logloss:0.684044\teval-logloss:0.688285\n",
      "[10]\ttrain-logloss:0.683276\teval-logloss:0.687915\n",
      "[11]\ttrain-logloss:0.682449\teval-logloss:0.687562\n",
      "[12]\ttrain-logloss:0.681678\teval-logloss:0.687227\n",
      "[13]\ttrain-logloss:0.680885\teval-logloss:0.686905\n",
      "[14]\ttrain-logloss:0.680160\teval-logloss:0.686661\n",
      "[15]\ttrain-logloss:0.679408\teval-logloss:0.686347\n",
      "[16]\ttrain-logloss:0.678704\teval-logloss:0.686121\n",
      "[17]\ttrain-logloss:0.678037\teval-logloss:0.685842\n",
      "[18]\ttrain-logloss:0.677365\teval-logloss:0.685569\n",
      "[19]\ttrain-logloss:0.676741\teval-logloss:0.685338\n",
      "[20]\ttrain-logloss:0.676142\teval-logloss:0.685108\n",
      "[21]\ttrain-logloss:0.675526\teval-logloss:0.684900\n",
      "[22]\ttrain-logloss:0.674934\teval-logloss:0.684687\n",
      "[23]\ttrain-logloss:0.674393\teval-logloss:0.684539\n",
      "[24]\ttrain-logloss:0.673842\teval-logloss:0.684378\n",
      "[25]\ttrain-logloss:0.673273\teval-logloss:0.684187\n",
      "[26]\ttrain-logloss:0.672741\teval-logloss:0.684036\n",
      "[27]\ttrain-logloss:0.672287\teval-logloss:0.683926\n",
      "[28]\ttrain-logloss:0.671793\teval-logloss:0.683747\n",
      "[29]\ttrain-logloss:0.671279\teval-logloss:0.683561\n",
      "[30]\ttrain-logloss:0.670812\teval-logloss:0.683418\n",
      "[31]\ttrain-logloss:0.670306\teval-logloss:0.683301\n",
      "[32]\ttrain-logloss:0.669828\teval-logloss:0.683186\n",
      "[33]\ttrain-logloss:0.669406\teval-logloss:0.683048\n",
      "[34]\ttrain-logloss:0.668980\teval-logloss:0.682964\n",
      "[35]\ttrain-logloss:0.668523\teval-logloss:0.682815\n",
      "[36]\ttrain-logloss:0.668129\teval-logloss:0.682667\n",
      "[37]\ttrain-logloss:0.667678\teval-logloss:0.682566\n",
      "[38]\ttrain-logloss:0.667218\teval-logloss:0.682497\n",
      "[39]\ttrain-logloss:0.666803\teval-logloss:0.682410\n",
      "[40]\ttrain-logloss:0.666411\teval-logloss:0.682355\n",
      "[41]\ttrain-logloss:0.666004\teval-logloss:0.682251\n",
      "[42]\ttrain-logloss:0.665610\teval-logloss:0.682192\n",
      "[43]\ttrain-logloss:0.665251\teval-logloss:0.682108\n",
      "[44]\ttrain-logloss:0.664862\teval-logloss:0.682051\n",
      "[45]\ttrain-logloss:0.664507\teval-logloss:0.682006\n",
      "[46]\ttrain-logloss:0.664143\teval-logloss:0.681941\n",
      "[47]\ttrain-logloss:0.663782\teval-logloss:0.681872\n",
      "[48]\ttrain-logloss:0.663454\teval-logloss:0.681823\n",
      "[49]\ttrain-logloss:0.663096\teval-logloss:0.681822\n",
      "[50]\ttrain-logloss:0.662754\teval-logloss:0.681783\n",
      "[51]\ttrain-logloss:0.662391\teval-logloss:0.681752\n",
      "[52]\ttrain-logloss:0.662100\teval-logloss:0.681699\n",
      "[53]\ttrain-logloss:0.661727\teval-logloss:0.681697\n",
      "[54]\ttrain-logloss:0.661427\teval-logloss:0.681604\n",
      "[55]\ttrain-logloss:0.661098\teval-logloss:0.681569\n",
      "[56]\ttrain-logloss:0.660737\teval-logloss:0.681527\n",
      "[57]\ttrain-logloss:0.660441\teval-logloss:0.681486\n",
      "[58]\ttrain-logloss:0.660146\teval-logloss:0.681494\n",
      "[59]\ttrain-logloss:0.659889\teval-logloss:0.681431\n",
      "[60]\ttrain-logloss:0.659594\teval-logloss:0.681380\n",
      "[61]\ttrain-logloss:0.659316\teval-logloss:0.681374\n",
      "[62]\ttrain-logloss:0.659035\teval-logloss:0.681345\n",
      "[63]\ttrain-logloss:0.658738\teval-logloss:0.681360\n",
      "[64]\ttrain-logloss:0.658483\teval-logloss:0.681332\n",
      "[65]\ttrain-logloss:0.658229\teval-logloss:0.681309\n",
      "[66]\ttrain-logloss:0.657999\teval-logloss:0.681291\n",
      "[67]\ttrain-logloss:0.657796\teval-logloss:0.681332\n",
      "[68]\ttrain-logloss:0.657617\teval-logloss:0.681316\n",
      "[69]\ttrain-logloss:0.657392\teval-logloss:0.681294\n",
      "[70]\ttrain-logloss:0.657125\teval-logloss:0.681255\n",
      "[71]\ttrain-logloss:0.656885\teval-logloss:0.681277\n",
      "[72]\ttrain-logloss:0.656668\teval-logloss:0.681266\n",
      "[73]\ttrain-logloss:0.656406\teval-logloss:0.681260\n",
      "[74]\ttrain-logloss:0.656194\teval-logloss:0.681294\n",
      "[75]\ttrain-logloss:0.655968\teval-logloss:0.681304\n",
      "[76]\ttrain-logloss:0.655801\teval-logloss:0.681327\n",
      "[77]\ttrain-logloss:0.655549\teval-logloss:0.681351\n",
      "[78]\ttrain-logloss:0.655310\teval-logloss:0.681354\n",
      "[79]\ttrain-logloss:0.655121\teval-logloss:0.681311\n",
      "[80]\ttrain-logloss:0.654842\teval-logloss:0.681328\n",
      "[81]\ttrain-logloss:0.654622\teval-logloss:0.681328\n",
      "[82]\ttrain-logloss:0.654416\teval-logloss:0.681328\n",
      "[83]\ttrain-logloss:0.654227\teval-logloss:0.681355\n",
      "[84]\ttrain-logloss:0.654032\teval-logloss:0.681345\n",
      "[85]\ttrain-logloss:0.653823\teval-logloss:0.681323\n",
      "[86]\ttrain-logloss:0.653648\teval-logloss:0.681323\n",
      "[87]\ttrain-logloss:0.653396\teval-logloss:0.681327\n",
      "[88]\ttrain-logloss:0.653230\teval-logloss:0.681358\n",
      "[89]\ttrain-logloss:0.653004\teval-logloss:0.681392\n",
      "[90]\ttrain-logloss:0.652813\teval-logloss:0.681359\n",
      "[91]\ttrain-logloss:0.652637\teval-logloss:0.681347\n",
      "[92]\ttrain-logloss:0.652483\teval-logloss:0.681358\n",
      "[93]\ttrain-logloss:0.652320\teval-logloss:0.681362\n",
      "[94]\ttrain-logloss:0.652132\teval-logloss:0.681370\n",
      "[95]\ttrain-logloss:0.651949\teval-logloss:0.681388\n",
      "[96]\ttrain-logloss:0.651808\teval-logloss:0.681378\n",
      "[97]\ttrain-logloss:0.651665\teval-logloss:0.681382\n",
      "[98]\ttrain-logloss:0.651498\teval-logloss:0.681392\n",
      "[99]\ttrain-logloss:0.651348\teval-logloss:0.681409\n",
      "[100]\ttrain-logloss:0.651145\teval-logloss:0.681416\n",
      "[101]\ttrain-logloss:0.650996\teval-logloss:0.681406\n",
      "[102]\ttrain-logloss:0.650865\teval-logloss:0.681392\n",
      "[103]\ttrain-logloss:0.650660\teval-logloss:0.681410\n",
      "[104]\ttrain-logloss:0.650441\teval-logloss:0.681452\n",
      "[105]\ttrain-logloss:0.650322\teval-logloss:0.681463\n",
      "[106]\ttrain-logloss:0.650123\teval-logloss:0.681467\n",
      "[107]\ttrain-logloss:0.649999\teval-logloss:0.681479\n",
      "[108]\ttrain-logloss:0.649811\teval-logloss:0.681490\n",
      "[109]\ttrain-logloss:0.649662\teval-logloss:0.681486\n",
      "[110]\ttrain-logloss:0.649551\teval-logloss:0.681482\n",
      "[111]\ttrain-logloss:0.649356\teval-logloss:0.681506\n",
      "[112]\ttrain-logloss:0.649179\teval-logloss:0.681507\n",
      "[113]\ttrain-logloss:0.649027\teval-logloss:0.681533\n",
      "[114]\ttrain-logloss:0.648949\teval-logloss:0.681542\n",
      "[115]\ttrain-logloss:0.648780\teval-logloss:0.681557\n",
      "[116]\ttrain-logloss:0.648681\teval-logloss:0.681551\n",
      "[117]\ttrain-logloss:0.648586\teval-logloss:0.681574\n",
      "[118]\ttrain-logloss:0.648480\teval-logloss:0.681581\n",
      "[119]\ttrain-logloss:0.648369\teval-logloss:0.681575\n",
      "[120]\ttrain-logloss:0.648244\teval-logloss:0.681611\n",
      "Stopping. Best iteration:\n",
      "[70]\ttrain-logloss:0.657125\teval-logloss:0.681255\n",
      "\n"
     ]
    }
   ],
   "source": [
    "import xgboost as xgb\n",
    "params = {\"objective\": \"binary:logistic\",\n",
    "          \"booster\" : \"gbtree\",\n",
    "          \"eta\": 0.025,\n",
    "          \"max_depth\": 12,\n",
    "          'gamma':0.7,\n",
    "          \"subsample\": 0.7,\n",
    "          'min_child_weight':3,\n",
    "          \"silent\": 1,\n",
    "          \"seed\": 1301,\n",
    "          'eval_metric':'logloss'\n",
    "          }\n",
    "num_boost_round = 1000\n",
    "\n",
    "print(\"Train a XGBoost model\")\n",
    "dtrain = xgb.DMatrix(X_train, y_train)\n",
    "#dtrain = xgb.DMatrix(X, y)\n",
    "dvalid = xgb.DMatrix(X_test, y_test)\n",
    "\n",
    "watchlist = [(dtrain, 'train'), (dvalid, 'eval')]\n",
    "gbm = xgb.train(params, dtrain, num_boost_round, evals=watchlist, \\\n",
    "    early_stopping_rounds=50, verbose_eval=True)\n",
    "#gbm = xgb.train(params, dtrain, num_boost_round)"
   ]
  },
  {
   "cell_type": "code",
   "execution_count": 285,
   "metadata": {
    "collapsed": false
   },
   "outputs": [],
   "source": [
    "# from xgboost.sklearn import XGBClassifier\n",
    "\n",
    "# clf = XGBClassifier(n_estimators=200,colsample_bytree=1.0,learning_rate=0.3,max_depth=2,min_child_weight = 3.0,gamma = 0.8,\n",
    "#                      subsample=1.0,objective = 'binary:logistic', eval_metric = 'logloss')\n",
    "# clf.fit(X,y)"
   ]
  },
  {
   "cell_type": "code",
   "execution_count": 286,
   "metadata": {
    "collapsed": true
   },
   "outputs": [],
   "source": [
    "df_test['Outcome'] = gbm.predict(xgb.DMatrix(df_test[col]))\n",
    "#df_test['Outcome'] = clf.predict(df_test[col])"
   ]
  },
  {
   "cell_type": "code",
   "execution_count": 287,
   "metadata": {
    "collapsed": false
   },
   "outputs": [],
   "source": [
    "# df_test[['ID','Outcome']]"
   ]
  },
  {
   "cell_type": "code",
   "execution_count": 288,
   "metadata": {
    "collapsed": true
   },
   "outputs": [],
   "source": [
    "df_test[['ID','Outcome']].to_csv('sol10.csv', index = False)"
   ]
  },
  {
   "cell_type": "code",
   "execution_count": 290,
   "metadata": {
    "collapsed": false
   },
   "outputs": [
    {
     "data": {
      "image/png": "[encoded data removed]",
      "text/plain": [
       "<matplotlib.figure.Figure at 0x121e6d550>"
      ]
     },
     "metadata": {},
     "output_type": "display_data"
    }
   ],
   "source": [
    "import operator\n",
    "\n",
    "def create_feature_map(features):\n",
    "    outfile = open('xgb.fmap', 'w')\n",
    "    for i, feat in enumerate(features):\n",
    "        outfile.write('{0}\\t{1}\\tq\\n'.format(i, feat))\n",
    "    outfile.close()\n",
    "\n",
    "create_feature_map(X_train.columns)\n",
    "importance = gbm.get_fscore(fmap='xgb.fmap')\n",
    "importance = sorted(importance.items(), key=operator.itemgetter(1))\n",
    "\n",
    "df = pd.DataFrame(importance, columns=['feature', 'fscore'])\n",
    "df['fscore'] = df['fscore'] / df['fscore'].sum()\n",
    "\n",
    "featp = df.plot(kind='barh', x='feature', y='fscore', legend=False, figsize=(6, 10))\n",
    "plt.title('XGBoost Feature Importance')\n",
    "plt.xlabel('relative importance')\n",
    "fig_featp = featp.get_figure()"
   ]
  },
  {
   "cell_type": "code",
   "execution_count": 177,
   "metadata": {
    "collapsed": true
   },
   "outputs": [],
   "source": [
    "# df_train['pos_comp'] = 0\n",
    "# df_test['pos_comp'] = 0"
   ]
  },
  {
   "cell_type": "code",
   "execution_count": 178,
   "metadata": {
    "collapsed": false
   },
   "outputs": [
    {
     "name": "stderr",
     "output_type": "stream",
     "text": [
      "/Users/Apple/anaconda/lib/python2.7/site-packages/ipykernel/__main__.py:2: SettingWithCopyWarning: \n",
      "A value is trying to be set on a copy of a slice from a DataFrame\n",
      "\n",
      "See the caveats in the documentation: http://pandas.pydata.org/pandas-docs/stable/indexing.html#indexing-view-versus-copy\n",
      "  from ipykernel import kernelapp as app\n",
      "/Users/Apple/anaconda/lib/python2.7/site-packages/ipykernel/__main__.py:3: SettingWithCopyWarning: \n",
      "A value is trying to be set on a copy of a slice from a DataFrame\n",
      "\n",
      "See the caveats in the documentation: http://pandas.pydata.org/pandas-docs/stable/indexing.html#indexing-view-versus-copy\n",
      "  app.launch_new_instance()\n"
     ]
    }
   ],
   "source": [
    "# for ids in train['Stock_ID'].unique():\n",
    "#     df_train['pos_comp'][df_train['Stock_ID']==ids] = df_train['Positive_Directional_Movement'][df_train['Stock_ID']==ids].shift(1)\n",
    "#     df_test['pos_comp'][df_test['Stock_ID']==ids] = df_test['Positive_Directional_Movement'][df_test['Stock_ID']==ids].shift(1)"
   ]
  },
  {
   "cell_type": "code",
   "execution_count": 183,
   "metadata": {
    "collapsed": false
   },
   "outputs": [
    {
     "name": "stderr",
     "output_type": "stream",
     "text": [
      "/Users/Apple/anaconda/lib/python2.7/site-packages/ipykernel/__main__.py:2: SettingWithCopyWarning: \n",
      "A value is trying to be set on a copy of a slice from a DataFrame\n",
      "\n",
      "See the caveats in the documentation: http://pandas.pydata.org/pandas-docs/stable/indexing.html#indexing-view-versus-copy\n",
      "  from ipykernel import kernelapp as app\n",
      "/Users/Apple/anaconda/lib/python2.7/site-packages/ipykernel/__main__.py:5: SettingWithCopyWarning: \n",
      "A value is trying to be set on a copy of a slice from a DataFrame\n",
      "\n",
      "See the caveats in the documentation: http://pandas.pydata.org/pandas-docs/stable/indexing.html#indexing-view-versus-copy\n"
     ]
    }
   ],
   "source": [
    "# df_train['feat3'] = 0\n",
    "# df_train['feat3'][df_train['pos_comp']==df_train['Positive_Directional_Movement']] = 1\n",
    "\n",
    "# df_test['feat3'] = 0\n",
    "# df_test['feat3'][df_test['pos_comp']==df_test['Positive_Directional_Movement']] = 1"
   ]
  },
  {
   "cell_type": "code",
   "execution_count": 289,
   "metadata": {
    "collapsed": false
   },
   "outputs": [
    {
     "name": "stdout",
     "output_type": "stream",
     "text": [
      "parsing: sol1.csv\n",
      "parsing: sol10.csv\n",
      "parsing: sol2.csv\n",
      "parsing: sol3.csv\n",
      "parsing: sol4.csv\n",
      "parsing: sol5.csv\n",
      "parsing: sol6.csv\n",
      "parsing: sol7.csv\n",
      "parsing: sol8.csv\n",
      "parsing: sol9.csv\n",
      "wrote to vote.csv\n"
     ]
    }
   ],
   "source": [
    "from collections import defaultdict, Counter\n",
    "from glob import glob\n",
    "import sys\n",
    "import re\n",
    "\n",
    "glob_files = 'sol*.csv'\n",
    "loc_outfile = 'vote.csv'\n",
    "weights_strategy = \"uniform\"\n",
    "if len(sys.argv) == 4:\n",
    "  weights_strategy = sys.argv[3]\n",
    "\n",
    "def kaggle_bag(glob_files, loc_outfile, method=\"average\", weights=\"uniform\"):\n",
    "  pattern = re.compile(r\"(.)*_[w|W](\\d*)_[.]*\")\n",
    "  if method == \"average\":\n",
    "    scores = defaultdict(list)\n",
    "  with open(loc_outfile,\"wb\") as outfile:\n",
    "    #weight_list may be usefull using a different method\n",
    "    weight_list = [1]*len(glob(glob_files))\n",
    "    for i, glob_file in enumerate( glob(glob_files) ):\n",
    "      print \"parsing:\", glob_file\n",
    "      if weights == \"weighted\":\n",
    "         weight = pattern.match(glob_file)\n",
    "         if weight and weight.group(2):\n",
    "            print \"Using weight: \",int(weight.group(2))\n",
    "            weight_list[i] = weight_list[i]*int(weight.group(2))\n",
    "         else:\n",
    "            print \"Using weight: 1\"\n",
    "      # sort glob_file by first column, ignoring the first line\n",
    "      lines = open(glob_file).readlines()\n",
    "      lines = [lines[0]] + sorted(lines[1:])\n",
    "      for e, line in enumerate( lines ):\n",
    "        if i == 0 and e == 0:\n",
    "          outfile.write(line)\n",
    "        if e > 0:\n",
    "          row = line.strip().split(\",\")\n",
    "          for l in range(1,weight_list[i]+1):\n",
    "            scores[(e,row[0])].append(row[1])\n",
    "    for j,k in sorted(scores):\n",
    "      outfile.write(\"%s,%s\\n\"%(k,Counter(scores[(j,k)]).most_common(1)[0][0]))\n",
    "    print(\"wrote to %s\"%loc_outfile)\n",
    "    \n",
    "kaggle_bag(glob_files, loc_outfile, weights=weights_strategy)"
   ]
  },
  {
   "cell_type": "code",
   "execution_count": null,
   "metadata": {
    "collapsed": true
   },
   "outputs": [],
   "source": []
  }
 ],
 "metadata": {
  "kernelspec": {
   "display_name": "Python 2",
   "language": "python",
   "name": "python2"
  },
  "language_info": {
   "codemirror_mode": {
    "name": "ipython",
    "version": 2
   },
   "file_extension": ".py",
   "mimetype": "text/x-python",
   "name": "python",
   "nbconvert_exporter": "python",
   "pygments_lexer": "ipython2",
   "version": "2.7.13"
  }
 },
 "nbformat": 4,
 "nbformat_minor": 0
}
